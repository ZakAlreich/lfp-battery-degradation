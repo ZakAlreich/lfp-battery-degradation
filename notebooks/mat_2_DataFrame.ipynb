{
  "nbformat": 4,
  "nbformat_minor": 0,
  "metadata": {
    "colab": {
      "name": "mat_2_DataFrame.ipynb",
      "provenance": [],
      "collapsed_sections": []
    },
    "kernelspec": {
      "name": "python3",
      "display_name": "Python 3"
    }
  },
  "cells": [
    {
      "cell_type": "code",
      "metadata": {
        "id": "Uo3wFoFvmfpm",
        "colab_type": "code",
        "colab": {}
      },
      "source": [
        "import pandas as pd\n",
        "import scipy.io as sio\n",
        "\n",
        "mat_db = sio.loadmat('B0005.mat') ['B0005']"
      ],
      "execution_count": 0,
      "outputs": []
    },
    {
      "cell_type": "code",
      "metadata": {
        "id": "gd4d5fUFrVS9",
        "colab_type": "code",
        "colab": {}
      },
      "source": [
        "def to_df(mat_db):\n",
        "    \"\"\"Returns one pd.DataFrame per cycle type\"\"\"\n",
        "\n",
        "    # Features common for every cycle\n",
        "    cycles_cols = ['type', 'ambient_temperature', 'time']\n",
        "\n",
        "    # Features monitored during the cycle\n",
        "    features_cols = {\n",
        "        'charge': ['Voltage_measured', 'Current_measured', 'Temperature_measured', \n",
        "                'Current_charge', 'Voltage_charge', 'Time'],\n",
        "        'discharge': ['Voltage_measured', 'Current_measured', 'Temperature_measured', \n",
        "                    'Current_charge', 'Voltage_charge', 'Time', 'Capacity'],\n",
        "        'impedance': ['Sense_current', 'Battery_current', 'Current_ratio',\n",
        "                    'Battery_impedance', 'Rectified_impedance', 'Re', 'Rct']\n",
        "    }\n",
        "\n",
        "    # Define one pd.DataFrame per cycle type\n",
        "    df = {key: pd.DataFrame() for key in features_cols.keys()}\n",
        "\n",
        "    # Get every cycle\n",
        "    print(f'Number of cycles: {mat_db[0][0][0].shape[1]}')\n",
        "    cycles = [[row.flat[0] for row in line] for line in mat_db[0][0][0][0]]\n",
        "\n",
        "    # Get measures for every cycle\n",
        "    for cycle_id, cycle_data in enumerate(cycles):\n",
        "        tmp = pd.DataFrame()\n",
        "\n",
        "        # Data series for every cycle\n",
        "        features_x_cycle = cycle_data[-1]\n",
        "\n",
        "        # Get features for the specific cycle type\n",
        "        features = features_cols[cycle_data[0]]\n",
        "        \n",
        "        for feature, data in zip(features, features_x_cycle):\n",
        "            if len(data[0]) > 1:\n",
        "                # Correct number of records\n",
        "                tmp[feature] = data[0]\n",
        "            else:\n",
        "                # Single value, so assign it to all rows\n",
        "                tmp[feature] = data[0][0]\n",
        "        \n",
        "        # Add columns common to the cycle measurements\n",
        "        tmp['id_cycle'] = cycle_id\n",
        "        for k, col in enumerate(cycles_cols):\n",
        "            tmp[col] = cycle_data[k]\n",
        "        \n",
        "        # Append cycle data to the right pd.DataFrame\n",
        "        cycle_type = cycle_data[0]\n",
        "        df[cycle_type] = df[cycle_type].append(tmp, ignore_index=True)\n",
        "    \n",
        "    return df"
      ],
      "execution_count": 0,
      "outputs": []
    },
    {
      "cell_type": "code",
      "metadata": {
        "id": "xfZaDRjM2fGI",
        "colab_type": "code",
        "colab": {
          "base_uri": "https://localhost:8080/",
          "height": 241
        },
        "outputId": "f1635af0-52f5-4bcc-b071-bbf4fd6ced4c"
      },
      "source": [
        "dfs = to_df(mat_db)\n",
        "\n",
        "dfs['charge'].head()"
      ],
      "execution_count": 17,
      "outputs": [
        {
          "output_type": "stream",
          "text": [
            "Number of cycles tested: 616\n"
          ],
          "name": "stdout"
        },
        {
          "output_type": "execute_result",
          "data": {
            "text/html": [
              "<div>\n",
              "<style scoped>\n",
              "    .dataframe tbody tr th:only-of-type {\n",
              "        vertical-align: middle;\n",
              "    }\n",
              "\n",
              "    .dataframe tbody tr th {\n",
              "        vertical-align: top;\n",
              "    }\n",
              "\n",
              "    .dataframe thead th {\n",
              "        text-align: right;\n",
              "    }\n",
              "</style>\n",
              "<table border=\"1\" class=\"dataframe\">\n",
              "  <thead>\n",
              "    <tr style=\"text-align: right;\">\n",
              "      <th></th>\n",
              "      <th>Voltage_measured</th>\n",
              "      <th>Current_measured</th>\n",
              "      <th>Temperature_measured</th>\n",
              "      <th>Current_charge</th>\n",
              "      <th>Voltage_charge</th>\n",
              "      <th>Time</th>\n",
              "      <th>id_cycle</th>\n",
              "      <th>type</th>\n",
              "      <th>ambient_temperature</th>\n",
              "      <th>time</th>\n",
              "    </tr>\n",
              "  </thead>\n",
              "  <tbody>\n",
              "    <tr>\n",
              "      <th>0</th>\n",
              "      <td>3.873017</td>\n",
              "      <td>-0.001201</td>\n",
              "      <td>24.655358</td>\n",
              "      <td>0.000</td>\n",
              "      <td>0.003</td>\n",
              "      <td>0.000</td>\n",
              "      <td>0</td>\n",
              "      <td>charge</td>\n",
              "      <td>24</td>\n",
              "      <td>2008.0</td>\n",
              "    </tr>\n",
              "    <tr>\n",
              "      <th>1</th>\n",
              "      <td>3.479394</td>\n",
              "      <td>-4.030268</td>\n",
              "      <td>24.666480</td>\n",
              "      <td>-4.036</td>\n",
              "      <td>1.570</td>\n",
              "      <td>2.532</td>\n",
              "      <td>0</td>\n",
              "      <td>charge</td>\n",
              "      <td>24</td>\n",
              "      <td>2008.0</td>\n",
              "    </tr>\n",
              "    <tr>\n",
              "      <th>2</th>\n",
              "      <td>4.000588</td>\n",
              "      <td>1.512731</td>\n",
              "      <td>24.675394</td>\n",
              "      <td>1.500</td>\n",
              "      <td>4.726</td>\n",
              "      <td>5.500</td>\n",
              "      <td>0</td>\n",
              "      <td>charge</td>\n",
              "      <td>24</td>\n",
              "      <td>2008.0</td>\n",
              "    </tr>\n",
              "    <tr>\n",
              "      <th>3</th>\n",
              "      <td>4.012395</td>\n",
              "      <td>1.509063</td>\n",
              "      <td>24.693865</td>\n",
              "      <td>1.500</td>\n",
              "      <td>4.742</td>\n",
              "      <td>8.344</td>\n",
              "      <td>0</td>\n",
              "      <td>charge</td>\n",
              "      <td>24</td>\n",
              "      <td>2008.0</td>\n",
              "    </tr>\n",
              "    <tr>\n",
              "      <th>4</th>\n",
              "      <td>4.019708</td>\n",
              "      <td>1.511318</td>\n",
              "      <td>24.705069</td>\n",
              "      <td>1.500</td>\n",
              "      <td>4.753</td>\n",
              "      <td>11.125</td>\n",
              "      <td>0</td>\n",
              "      <td>charge</td>\n",
              "      <td>24</td>\n",
              "      <td>2008.0</td>\n",
              "    </tr>\n",
              "  </tbody>\n",
              "</table>\n",
              "</div>"
            ],
            "text/plain": [
              "   Voltage_measured  Current_measured  ...  ambient_temperature    time\n",
              "0          3.873017         -0.001201  ...                   24  2008.0\n",
              "1          3.479394         -4.030268  ...                   24  2008.0\n",
              "2          4.000588          1.512731  ...                   24  2008.0\n",
              "3          4.012395          1.509063  ...                   24  2008.0\n",
              "4          4.019708          1.511318  ...                   24  2008.0\n",
              "\n",
              "[5 rows x 10 columns]"
            ]
          },
          "metadata": {
            "tags": []
          },
          "execution_count": 17
        }
      ]
    },
    {
      "cell_type": "code",
      "metadata": {
        "id": "o2NOTmaM27OQ",
        "colab_type": "code",
        "colab": {}
      },
      "source": [
        ""
      ],
      "execution_count": 0,
      "outputs": []
    }
  ]
}