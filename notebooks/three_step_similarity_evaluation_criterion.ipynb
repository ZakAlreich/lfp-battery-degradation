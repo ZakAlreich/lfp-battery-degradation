{
  "cells": [
    {
      "cell_type": "code",
      "execution_count": 197,
      "metadata": {
        "colab": {
          "base_uri": "https://localhost:8080/"
        },
        "id": "ZFfiyD0OcrTL",
        "outputId": "f41f194b-f579-4de0-e6b6-54b88a80d47c"
      },
      "outputs": [
        {
          "name": "stdout",
          "output_type": "stream",
          "text": [
            "Requirement already satisfied: similaritymeasures in /usr/local/lib/python3.12/dist-packages (1.3.0)\n",
            "Requirement already satisfied: numpy>=1.14.0 in /usr/local/lib/python3.12/dist-packages (from similaritymeasures) (2.0.2)\n",
            "Requirement already satisfied: scipy>=0.19.0 in /usr/local/lib/python3.12/dist-packages (from similaritymeasures) (1.16.1)\n"
          ]
        }
      ],
      "source": [
        "pip install similaritymeasures"
      ]
    },
    {
      "cell_type": "code",
      "execution_count": 198,
      "metadata": {
        "colab": {
          "base_uri": "https://localhost:8080/"
        },
        "id": "KQwunlyAoS-X",
        "outputId": "7727680f-c604-4ba5-c436-17b5d167e679"
      },
      "outputs": [
        {
          "name": "stdout",
          "output_type": "stream",
          "text": [
            "GPU is available: Tesla T4\n",
            "Mounted at /content/drive\n"
          ]
        }
      ],
      "source": [
        "\n",
        "\n",
        "import json\n",
        "import os\n",
        "import glob\n",
        "import time\n",
        "import numpy as np\n",
        "import pandas as pd\n",
        "import torch\n",
        "import torch.nn as nn\n",
        "import torch.optim as optim\n",
        "import similaritymeasures\n",
        "import matplotlib.pyplot as plt\n",
        "from sklearn.preprocessing import MinMaxScaler\n",
        "from tqdm.notebook import tqdm\n",
        "\n",
        "# --- Environment Setup ---\n",
        "# Set up the device for GPU training if available\n",
        "if torch.cuda.is_available():\n",
        "    device = torch.device(\"cuda\")\n",
        "    print(f\"GPU is available: {torch.cuda.get_device_name(0)}\")\n",
        "else:\n",
        "    device = torch.device(\"cpu\")\n",
        "    print(\"GPU not available, using CPU.\")\n",
        "\n",
        "# Mount Google Drive to access the dataset\n",
        "from google.colab import drive\n",
        "drive.mount('/content/drive',force_remount=True)"
      ]
    },
    {
      "cell_type": "code",
      "execution_count": 199,
      "metadata": {
        "colab": {
          "base_uri": "https://localhost:8080/"
        },
        "id": "t9I7w1qY-kQh",
        "outputId": "2eb2902e-96ea-4e6e-caab-a195caa2e64a"
      },
      "outputs": [
        {
          "name": "stdout",
          "output_type": "stream",
          "text": [
            "Random seed = 42 .\n"
          ]
        }
      ],
      "source": [
        "import torch\n",
        "import numpy as np\n",
        "import random\n",
        "\n",
        "def set_seed(seed):\n",
        "    \"\"\"Sets the random seed for reproducibility.\"\"\"\n",
        "    torch.manual_seed(seed)\n",
        "    torch.cuda.manual_seed_all(seed) # if you are using CUDA\n",
        "    np.random.seed(seed)\n",
        "    random.seed(seed)\n",
        "    torch.backends.cudnn.deterministic = True\n",
        "    torch.backends.cudnn.benchmark = False\n",
        "\n",
        "# Use any number you like for the seed. 42 is a popular choice.\n",
        "SEED = 42\n",
        "set_seed(SEED)\n",
        "print(f\"Random seed = {SEED} .\")"
      ]
    },
    {
      "cell_type": "markdown",
      "metadata": {
        "id": "tcA7nlxquPV5"
      },
      "source": [
        "## Data Extraction and Loading\n",
        "As per the paper, the primary health indicator used is the battery's charge capacity per cycle. We will load the data from all JSON files into a structured dictionary of Pandas DataFrames\n"
      ]
    },
    {
      "cell_type": "code",
      "execution_count": null,
      "metadata": {
        "id": "3wug6YVDoXEO"
      },
      "outputs": [],
      "source": [
        "# # Define the directory containing your JSON files\n",
        "# data_directory = '/content/drive/MyDrive/Colab_Projects/FastCharge'\n",
        "\n",
        "# # Find and process all JSON files\n",
        "# json_file_list = glob.glob(os.path.join(data_directory, '*.json'))\n",
        "# print(f\"Found {len(json_file_list)} JSON files to process.\")\n",
        "\n",
        "# all_batteries_df = {}\n",
        "# if not json_file_list:\n",
        "#     print(\"ERROR: No JSON files found. Please check the 'data_directory' path.\")\n",
        "# else:\n",
        "\n",
        "#     for file_path in tqdm(json_file_list, desc=\"Extracting battery data\"):\n",
        "#         battery_id = os.path.splitext(os.path.basename(file_path))[0]\n",
        "#         try:\n",
        "#             with open(file_path, 'r') as f:\n",
        "#                 battery_data = json.load(f)\n",
        "\n",
        "#             summary_data = battery_data['summary']\n",
        "#             battery_df = pd.DataFrame({\n",
        "#                 'cycle': summary_data['cycle_index'],\n",
        "#                 'charge_capacity': summary_data['charge_capacity']\n",
        "#             })\n",
        "#             battery_df = battery_df[battery_df['charge_capacity'] > 0].dropna()\n",
        "#             all_batteries_df[battery_id] = battery_df\n",
        "#         except Exception as e:\n",
        "\n",
        "#             print(f\"    -  Could not process file {battery_id}. Error: {e}\")\n",
        "\n",
        "# print(f\"\\nData extraction complete. Loaded data for {len(all_batteries_df)} batteries.\")"
      ]
    },
    {
      "cell_type": "code",
      "execution_count": null,
      "metadata": {
        "id": "IqndkrBjnB86"
      },
      "outputs": [],
      "source": [
        "# import pickle\n",
        "\n",
        "# # path where to save the processed data ---\n",
        "# save_path = '/content/drive/MyDrive/Colab_Projects/processed_battery_data.pkl'\n",
        "\n",
        "# #Save the dictionary to a pickle file\n",
        "# with open(save_path, 'wb') as f:\n",
        "#     pickle.dump(all_batteries_df, f)\n",
        "\n",
        "# print(f\"Successfully saved the processed data to: {save_path}\")"
      ]
    },
    {
      "cell_type": "code",
      "execution_count": 200,
      "metadata": {
        "colab": {
          "base_uri": "https://localhost:8080/"
        },
        "id": "MW8b88tfnFSc",
        "outputId": "1b0754d3-9d05-41da-fc6c-43ac10faf348"
      },
      "outputs": [
        {
          "name": "stdout",
          "output_type": "stream",
          "text": [
            "Successfully loaded processed data for 140 batteries from file.\n"
          ]
        }
      ],
      "source": [
        "import pickle\n",
        "\n",
        "#path to the saved data file ---\n",
        "load_path = '/content/drive/MyDrive/Colab_Projects/processed_battery_data.pkl'\n",
        "\n",
        "# Load the data from the pickle file -\n",
        "try:\n",
        "    with open(load_path, 'rb') as f:\n",
        "        all_batteries_df = pickle.load(f)\n",
        "    print(f\"Successfully loaded processed data for {len(all_batteries_df)} batteries from file.\")\n",
        "except FileNotFoundError:\n",
        "    print(f\"ERROR: Saved data file not found at {load_path}\")\n",
        "    print(\"Please run the 'Step 2a: Data Extraction' and 'Step 2b: Save' cells first.\")"
      ]
    },
    {
      "cell_type": "code",
      "execution_count": 201,
      "metadata": {
        "id": "nfMAP4MurpTk"
      },
      "outputs": [],
      "source": [
        "#all_batteries_df"
      ]
    },
    {
      "cell_type": "code",
      "execution_count": null,
      "metadata": {
        "colab": {
          "base_uri": "https://localhost:8080/"
        },
        "id": "jF81qKM8Byds",
        "outputId": "73b8e23f-e2cf-4bbb-eea3-637dc2af5ff8"
      },
      "outputs": [
        {
          "name": "stdout",
          "output_type": "stream",
          "text": [
            "Filtering complete.\n",
            "Original number of batteries: 140\n",
            "Number of batteries after advanced filtering: 50\n"
          ]
        }
      ],
      "source": [
        "# --- Define the filtering criteria ---\n",
        "MIN_CYCLE_LIFE = 150\n",
        "MAX_CYCLE_LIFE = 1900\n",
        "FAILURE_THRESHOLD = 0.88\n",
        "PREDICTION_START_PERCENTAGE = 0.3\n",
        "\n",
        "# Create a new dictionary to hold the filtered data\n",
        "filtered_batteries_df = {}\n",
        "\n",
        "# --- Iterate through the loaded dictionary and apply all filters ---\n",
        "for battery_id, df in all_batteries_df.items():\n",
        "    cycle_life = len(df)\n",
        "\n",
        "    # Condition 1: Check if the total cycle life is within our desired range\n",
        "    if not (MIN_CYCLE_LIFE <= cycle_life <= MAX_CYCLE_LIFE):\n",
        "        continue # Skip this battery\n",
        "\n",
        "    # Condition 2: Check if the battery ever reached the failure threshold\n",
        "    true_eol_indices = np.where(df['charge_capacity'].values < FAILURE_THRESHOLD)[0]\n",
        "    if len(true_eol_indices) == 0:\n",
        "        continue # Skip this battery\n",
        "\n",
        "    # Condition 3: Check if the failure happened AFTER the prediction start point (30% mark)\n",
        "    true_eol_cycle = true_eol_indices[0]\n",
        "    cutoff_index = int(cycle_life * PREDICTION_START_PERCENTAGE)\n",
        "    if true_eol_cycle < cutoff_index:\n",
        "        continue # Skip this battery because it failed too early\n",
        "\n",
        "    # If a battery passes all checks, add it to our new dictionary\n",
        "    filtered_batteries_df[battery_id] = df\n",
        "\n",
        "# --- Report the results ---\n",
        "original_count = len(all_batteries_df)\n",
        "filtered_count = len(filtered_batteries_df)\n",
        "\n",
        "print(\"Filtering complete.\")\n",
        "print(f\"Original number of batteries: {original_count}\")\n",
        "print(f\"Number of batteries after advanced filtering: {filtered_count}\")\n",
        "\n"
      ]
    },
    {
      "cell_type": "code",
      "execution_count": null,
      "metadata": {
        "id": "-tsdGRp22P-D"
      },
      "outputs": [],
      "source": [
        "# # --- Define the filtering criteria ---\n",
        "# MIN_CYCLE_LIFE = 150\n",
        "# MAX_CYCLE_LIFE = 1900\n",
        "# FAILURE_THRESHOLD = 0.88 # 80% of 1.1Ah rated capacity\n",
        "\n",
        "# # Create a new dictionary to hold the filtered data\n",
        "# filtered_batteries_df = {}\n",
        "\n",
        "# # --- Iterate through the loaded dictionary and apply all filters ---\n",
        "# for battery_id, df in all_batteries_df.items():\n",
        "#     cycle_life = len(df)\n",
        "#     min_capacity = df['charge_capacity'].min()\n",
        "\n",
        "#     # The battery must meet ALL of the following conditions to be kept:\n",
        "#     if (MIN_CYCLE_LIFE <= cycle_life <= MAX_CYCLE_LIFE) and (min_capacity <= FAILURE_THRESHOLD):\n",
        "#         filtered_batteries_df[battery_id] = df\n",
        "\n",
        "# # --- Report the results ---\n",
        "# original_count = len(all_batteries_df)\n",
        "# filtered_count = len(filtered_batteries_df)\n",
        "\n",
        "# print(f\"Filtering complete.\")\n",
        "# print(f\"Original number of batteries: {original_count}\")\n",
        "# print(f\"Number of batteries after filtering: {filtered_count}\")\n",
        "# print(f\"(Kept batteries with lifespan between {MIN_CYCLE_LIFE}-{MAX_CYCLE_LIFE} cycles AND that reached the {FAILURE_THRESHOLD} Ah failure threshold)\")\n",
        "\n"
      ]
    },
    {
      "cell_type": "markdown",
      "metadata": {
        "id": "JMcJORjRuYe5"
      },
      "source": [
        "## Source Battery Selection (TSSE Criterion)\n",
        "This step implements the paper's core contribution:\n",
        " the Three-Step Similarity Evaluation (TSSE) to select the two most similar source batteries for a given target battery, using only the first 30% of their lifespan data"
      ]
    },
    {
      "cell_type": "code",
      "execution_count": 202,
      "metadata": {
        "colab": {
          "base_uri": "https://localhost:8080/"
        },
        "id": "Cffr6ckGoa2r",
        "outputId": "e813df89-89cf-4618-84a5-3ba1ff19bc49"
      },
      "outputs": [
        {
          "name": "stdout",
          "output_type": "stream",
          "text": [
            "Target Battery: FastCharge_000049_CH37_structure\n",
            "\n",
            "--- Step 1: Calculating Fréchet Distance (Top 6)... ---\n",
            "--- Step 2: Calculating Degradation Rate (Top 4)... ---\n",
            "--- Step 3: Calculating Cycle Ratio (Final 2)... ---\n",
            "\n",
            " Final Selection for target 'FastCharge_000049_CH37_structure': ['FastCharge_000072_CH34_structure', 'FastCharge_000059_CH33_structure']\n"
          ]
        }
      ],
      "source": [
        "# This cell contains the helper functions and the main TSSE function\n",
        "def _calculate_degradation_rate(df):\n",
        "    \"\"\"Helper function to calculate capacity degradation rate as per Eq. (7)\"\"\"\n",
        "    if df.empty: return np.inf\n",
        "    initial_capacity = df['charge_capacity'].iloc[0]\n",
        "    last_known_capacity = df['charge_capacity'].iloc[-1]\n",
        "    return (initial_capacity - last_known_capacity) / initial_capacity\n",
        "\n",
        "def select_source_batteries_tsse(target_battery_id, all_batteries_data, selection_percentage=0.3):\n",
        "    \"\"\"\n",
        "    Selects source batteries using the paper's TSSE criterion (Section 3.2).\n",
        "    \"\"\"\n",
        "    print(f\"Target Battery: {target_battery_id}\")\n",
        "    early_life_data = {}\n",
        "    for battery_id, df in all_batteries_data.items():\n",
        "        cutoff_index = int(len(df) * selection_percentage)\n",
        "        if cutoff_index > 1: early_life_data[battery_id] = df.iloc[:cutoff_index]\n",
        "        else: early_life_data[battery_id] = pd.DataFrame()\n",
        "\n",
        "    target_early_df = early_life_data[target_battery_id]\n",
        "    if target_early_df.empty:\n",
        "        print(f\"ERROR: Target battery '{target_battery_id}' is too short-lived. Choose another.\")\n",
        "        return None\n",
        "\n",
        "    # Step 1: Fréchet Distance to select top 6 candidates [cite: 274, 275]\n",
        "    print(\"\\n--- Step 1: Calculating Fréchet Distance (Top 6)... ---\")\n",
        "    distances = []\n",
        "    target_curve = np.column_stack((target_early_df['cycle'], target_early_df['charge_capacity']))\n",
        "    for battery_id, df in early_life_data.items():\n",
        "        if battery_id == target_battery_id or df.empty: continue\n",
        "        candidate_curve = np.column_stack((df['cycle'], df['charge_capacity']))\n",
        "        distances.append({'id': battery_id, 'distance': similaritymeasures.frechet_dist(target_curve, candidate_curve)})\n",
        "    distances.sort(key=lambda x: x['distance'])\n",
        "    top_6_candidates = [d['id'] for d in distances[:6]]\n",
        "\n",
        "    # Step 2: Capacity Degradation Rate to filter to top 4 [cite: 288, 291]\n",
        "    print(\"--- Step 2: Calculating Degradation Rate (Top 4)... ---\")\n",
        "    target_rate = _calculate_degradation_rate(target_early_df)\n",
        "    rate_diffs = [{'id': bid, 'diff': abs(_calculate_degradation_rate(early_life_data[bid]) - target_rate)} for bid in top_6_candidates]\n",
        "    rate_diffs.sort(key=lambda x: x['diff'])\n",
        "    top_4_candidates = [d['id'] for d in rate_diffs[:4]]\n",
        "\n",
        "    # Step 3: Cycle Ratio to select final 2 [cite: 296, 356]\n",
        "    print(\"--- Step 3: Calculating Cycle Ratio (Final 2)... ---\")\n",
        "    target_cycles = len(target_early_df)\n",
        "    cycle_ratios = [{'id': bid, 'ratio_diff': abs(len(early_life_data[bid]) / target_cycles - 1)} for bid in top_4_candidates]\n",
        "    cycle_ratios.sort(key=lambda x: x['ratio_diff'])\n",
        "    final_source_batteries = [d['id'] for d in cycle_ratios[:2]]\n",
        "\n",
        "    return final_source_batteries\n",
        "\n",
        "# --- Run the Selection Process ---\n",
        "# ACTION REQUIRED: You can change the index to select a different target battery.\n",
        "target_id = list(filtered_batteries_df.keys())[0] # Using the 0st battery as an example\n",
        "selected_sources = select_source_batteries_tsse(target_id, filtered_batteries_df)\n",
        "print(f\"\\n Final Selection for target '{target_id}': {selected_sources}\")"
      ]
    },
    {
      "cell_type": "markdown",
      "metadata": {
        "id": "VVnM3P8OukIb"
      },
      "source": [
        "## Feature Reconstruction and Data Preparation\n",
        "Here, we reconstruct the time-series data into input-output pairs using a sliding window, as described in Section 3.1 of the paper, which specifies a window size of 10."
      ]
    },
    {
      "cell_type": "code",
      "execution_count": 203,
      "metadata": {
        "colab": {
          "base_uri": "https://localhost:8080/"
        },
        "id": "d9Dq-Q4qooWO",
        "outputId": "3f28ca2a-f702-41d6-9be4-d07b5477333d"
      },
      "outputs": [
        {
          "name": "stdout",
          "output_type": "stream",
          "text": [
            "Data prepared, scaled, and moved to device.\n"
          ]
        }
      ],
      "source": [
        "# Helper function for creating features as per Section 3.1\n",
        "def create_sliding_window_features(capacity_data, window_size):\n",
        "    X, y = [], []\n",
        "    for i in range(len(capacity_data) - window_size):\n",
        "        X.append(capacity_data[i:(i + window_size)])\n",
        "        y.append(capacity_data[i + window_size])\n",
        "    return np.array(X), np.array(y)\n",
        "\n",
        "# --- 1. Create Training Set from Source Batteries ---\n",
        "source_dfs = [filtered_batteries_df[sid] for sid in selected_sources]\n",
        "source_capacity_sequence = pd.concat([df['charge_capacity'] for df in source_dfs], ignore_index=True).values.reshape(-1, 1)\n",
        "\n",
        "# --- 2. Initialize and Fit the Scaler ---\n",
        "scaler = MinMaxScaler(feature_range=(0, 1))\n",
        "source_capacity_scaled = scaler.fit_transform(source_capacity_sequence)\n",
        "\n",
        "# --- 3. Create Sliding Window Features with SCALED data ---\n",
        "WINDOW_SIZE = 10 # r=10 as specified in the paper\n",
        "X_train_source, y_train_source = create_sliding_window_features(source_capacity_scaled.flatten(), WINDOW_SIZE)\n",
        "\n",
        "# --- 4. Prepare and Scale Target Battery Data ---\n",
        "target_df_full = filtered_batteries_df[target_id]\n",
        "target_capacity_full_scaled = scaler.transform(target_df_full[['charge_capacity']].values)\n",
        "cutoff_index = int(len(target_df_full) * 0.3)\n",
        "X_finetune_target, y_finetune_target = create_sliding_window_features(target_capacity_full_scaled.flatten()[:cutoff_index], WINDOW_SIZE)\n",
        "\n",
        "# --- 5. Convert to GPU Tensors ---\n",
        "X_train_source_t = torch.from_numpy(X_train_source).float().unsqueeze(-1).to(device)\n",
        "y_train_source_t = torch.from_numpy(y_train_source).float().unsqueeze(-1).to(device)\n",
        "X_finetune_target_t = torch.from_numpy(X_finetune_target).float().unsqueeze(-1).to(device)\n",
        "y_finetune_target_t = torch.from_numpy(y_finetune_target).float().unsqueeze(-1).to(device)\n",
        "\n",
        "print(\"Data prepared, scaled, and moved to device.\")"
      ]
    },
    {
      "cell_type": "code",
      "execution_count": 204,
      "metadata": {
        "colab": {
          "base_uri": "https://localhost:8080/"
        },
        "id": "QfKQXiCcFL1I",
        "outputId": "d3a57f2f-9bfa-4884-9014-7caf364cc5de"
      },
      "outputs": [
        {
          "data": {
            "text/plain": [
              "(torch.Size([1084, 10, 1]), torch.Size([1084, 1]))"
            ]
          },
          "execution_count": 204,
          "metadata": {},
          "output_type": "execute_result"
        }
      ],
      "source": [
        "X_train_source_t.shape,y_train_source_t.shape"
      ]
    },
    {
      "cell_type": "markdown",
      "metadata": {
        "id": "rX8LpHPVuyfK"
      },
      "source": [
        "## Define the Attention-LSTM Model\n",
        "This class defines the model architecture exactly as specified in the paper's Table 2 and Figure 6, with a hidden size of 128 and a dropout rate of 0.2"
      ]
    },
    {
      "cell_type": "code",
      "execution_count": 205,
      "metadata": {
        "colab": {
          "base_uri": "https://localhost:8080/"
        },
        "id": "_kpjX7CbzOEh",
        "outputId": "ff59ca1c-2641-4781-a2d0-6f9ab114c148"
      },
      "outputs": [
        {
          "name": "stdout",
          "output_type": "stream",
          "text": [
            "--- Model Architecture ---\n",
            "AttentionLSTM(\n",
            "  (lstm1): LSTM(1, 128, batch_first=True)\n",
            "  (lstm2): LSTM(128, 128, batch_first=True)\n",
            "  (fc1): Linear(in_features=256, out_features=256, bias=True)\n",
            "  (relu): ReLU()\n",
            "  (dropout): Dropout(p=0.2, inplace=False)\n",
            "  (fc2): Linear(in_features=256, out_features=1, bias=True)\n",
            ")\n"
          ]
        }
      ],
      "source": [
        "class AttentionLSTM(nn.Module):\n",
        "    def __init__(self, input_size=1, hidden_size=128, dropout_prob=0.2):\n",
        "        super(AttentionLSTM, self).__init__()\n",
        "        self.lstm1 = nn.LSTM(input_size, hidden_size, batch_first=True)\n",
        "        self.lstm2 = nn.LSTM(hidden_size, hidden_size, batch_first=True)\n",
        "        self.fc1 = nn.Linear(hidden_size * 2, hidden_size * 2)\n",
        "        self.relu = nn.ReLU()\n",
        "        self.dropout = nn.Dropout(dropout_prob)\n",
        "        self.fc2 = nn.Linear(hidden_size * 2, 1)\n",
        "\n",
        "    def forward(self, x):\n",
        "        lstm1_out, (h_n1, _) = self.lstm1(x)\n",
        "        lstm2_out, _ = self.lstm2(h_n1.permute(1, 0, 2))\n",
        "        query = lstm2_out.squeeze(1)\n",
        "        scores = torch.bmm(lstm1_out, query.unsqueeze(2)).squeeze(2)\n",
        "        weights = nn.functional.softmax(scores, dim=1)\n",
        "        context = torch.bmm(weights.unsqueeze(1), lstm1_out).squeeze(1)\n",
        "        combined = torch.cat((context, query), dim=1)\n",
        "        out = self.fc1(combined)\n",
        "        out = self.relu(out)\n",
        "        out = self.dropout(out)\n",
        "        out = self.fc2(out)\n",
        "        return out\n",
        "\n",
        "# --- Instantiate the model with parameters from the paper ---\n",
        "model = AttentionLSTM(hidden_size=128).to(device)\n",
        "print(\"--- Model Architecture ---\")\n",
        "print(model)"
      ]
    },
    {
      "cell_type": "markdown",
      "metadata": {
        "id": "s-COY5qmu5_b"
      },
      "source": [
        "## Train the Model via Transfer Learning\n",
        "Two-phase training process  as described in Section 3.3.4 of the paper: pre-training with a learning rate of 0.001, followed by fine-tuning the FC layers with a learning rate of 0.0001."
      ]
    },
    {
      "cell_type": "code",
      "execution_count": 206,
      "metadata": {
        "colab": {
          "base_uri": "https://localhost:8080/"
        },
        "id": "EnvYkl-hzRpP",
        "outputId": "69f9a7d6-2925-4741-a6e8-249976af1e42"
      },
      "outputs": [
        {
          "name": "stdout",
          "output_type": "stream",
          "text": [
            "\n",
            "--- Phase 1: Pre-training on Source Batteries ---\n",
            "Pre-train Epoch [20/200], Loss: 0.010558\n",
            "Pre-train Epoch [40/200], Loss: 0.009918\n",
            "Pre-train Epoch [60/200], Loss: 0.007104\n",
            "Pre-train Epoch [80/200], Loss: 0.002468\n",
            "Pre-train Epoch [100/200], Loss: 0.001662\n",
            "Pre-train Epoch [120/200], Loss: 0.001681\n",
            "Pre-train Epoch [140/200], Loss: 0.001621\n",
            "Pre-train Epoch [160/200], Loss: 0.001570\n",
            "Pre-train Epoch [180/200], Loss: 0.001531\n",
            "Pre-train Epoch [200/200], Loss: 0.001532\n",
            "\n",
            "--- Phase 2: Fine-tuning on Target Battery ---\n",
            "Fine-tune Epoch [10/40], Loss: 0.000494\n",
            "Fine-tune Epoch [20/40], Loss: 0.000591\n",
            "Fine-tune Epoch [30/40], Loss: 0.000563\n",
            "Fine-tune Epoch [40/40], Loss: 0.000487\n",
            "\n",
            "✅ Training complete.\n"
          ]
        }
      ],
      "source": [
        "# --- 1. Setup for Training ---\n",
        "loss_function = nn.MSELoss()\n",
        "\n",
        "# --- 2. Phase 1: Pre-training on Source Data ---\n",
        "# Pre-training remains the same to build a strong base model\n",
        "print(\"\\n--- Phase 1: Pre-training on Source Batteries ---\")\n",
        "pretrain_optimizer = optim.Adam(model.parameters(), lr=0.001)\n",
        "pretrain_epochs = 200\n",
        "model.train()\n",
        "for epoch in range(pretrain_epochs):\n",
        "    outputs = model(X_train_source_t)\n",
        "    loss = loss_function(outputs, y_train_source_t); pretrain_optimizer.zero_grad(); loss.backward(); pretrain_optimizer.step()\n",
        "    if (epoch + 1) % 20 == 0: print(f'Pre-train Epoch [{epoch+1}/{pretrain_epochs}], Loss: {loss.item():.6f}')\n",
        "\n",
        "# --- 3. Phase 2: Fine-tuning on Target Data (Now much gentler) ---\n",
        "print(\"\\n--- Phase 2: Fine-tuning on Target Battery ---\")\n",
        "# Freeze LSTM and attention layers\n",
        "for name, param in model.named_parameters():\n",
        "    if \"fc\" not in name: param.requires_grad = False\n",
        "\n",
        "# UPDATED: Use a lower learning rate and fewer epochs for fine-tuning\n",
        "finetune_optimizer = optim.Adam(filter(lambda p: p.requires_grad, model.parameters()), lr=1e-5) # Reduced from 1e-4\n",
        "finetune_epochs = 40 # Reduced from 100\n",
        "\n",
        "for epoch in range(finetune_epochs):\n",
        "    outputs = model(X_finetune_target_t)\n",
        "    loss = loss_function(outputs, y_finetune_target_t); finetune_optimizer.zero_grad(); loss.backward(); finetune_optimizer.step()\n",
        "    if (epoch + 1) % 10 == 0: print(f'Fine-tune Epoch [{epoch+1}/{finetune_epochs}], Loss: {loss.item():.6f}')\n",
        "print(\"\\n✅ Training complete.\")"
      ]
    },
    {
      "cell_type": "markdown",
      "metadata": {
        "id": "7mMWRi6rvDn9"
      },
      "source": [
        "## Prediction and Evaluation\n",
        "Use the trained model to predict the full future degradation curve and evaluate its performance using the  metrics specified in Section 2.2 of the paper: MAE, RMSE, MAPE, and RUL Absolute Error"
      ]
    },
    {
      "cell_type": "code",
      "execution_count": 207,
      "metadata": {
        "colab": {
          "base_uri": "https://localhost:8080/",
          "height": 815
        },
        "id": "4m1yMZyLzUxq",
        "outputId": "b00b7781-bfc9-414b-c3ed-11b90707c92c"
      },
      "outputs": [
        {
          "name": "stdout",
          "output_type": "stream",
          "text": [
            "\n",
            "--- Model Performance Evaluation ---\n",
            "Capacity MAE: 0.0665 Ah\n",
            "Capacity RMSE: 0.0779 Ah\n",
            "Capacity MAPE: 6.38%\n",
            "\n",
            "Predicted RUL: 303 cycles\n",
            "True RUL: 368 cycles\n",
            "RUL Absolute Error (AE): 65 cycles\n",
            "RUL Relative Error (RE): 17.66%\n"
          ]
        },
        {
          "data": {
            "image/png": "[encoded data removed]",
            "text/plain": [
              "<Figure size 1200x700 with 1 Axes>"
            ]
          },
          "metadata": {},
          "output_type": "display_data"
        }
      ],
      "source": [
        "from sklearn.metrics import mean_absolute_error, mean_squared_error\n",
        "\n",
        "def mean_absolute_percentage_error(y_true, y_pred):\n",
        "    # Add a small epsilon to avoid division by zero\n",
        "    epsilon = 1e-8\n",
        "    return np.mean(np.abs((y_true - y_pred) / (y_true + epsilon))) * 100\n",
        "\n",
        "# --- 1. Iteratively predict the future ---\n",
        "model.eval()\n",
        "initial_window_scaled = target_capacity_full_scaled.flatten()[cutoff_index - WINDOW_SIZE : cutoff_index]\n",
        "predictions_scaled = []\n",
        "current_window = torch.tensor(initial_window_scaled, dtype=torch.float32).view(1, WINDOW_SIZE, 1).to(device)\n",
        "\n",
        "FAILURE_THRESHOLD = 0.88\n",
        "failure_threshold_scaled = scaler.transform(np.array([[FAILURE_THRESHOLD]]))[0, 0]\n",
        "\n",
        "with torch.no_grad():\n",
        "    for _ in range(2000): # Predict for a max of 2000 cycles\n",
        "        prediction = model(current_window)\n",
        "        predicted_value_scaled = prediction.item()\n",
        "        predictions_scaled.append(predicted_value_scaled)\n",
        "        if predicted_value_scaled <= failure_threshold_scaled:\n",
        "            break\n",
        "        current_window = torch.roll(current_window, shifts=-1, dims=1)\n",
        "        current_window[0, -1, 0] = predicted_value_scaled\n",
        "\n",
        "# --- 2. Inverse Transform predictions to original scale ---\n",
        "predicted_capacity = scaler.inverse_transform(np.array(predictions_scaled).reshape(-1, 1)).flatten()\n",
        "\n",
        "# --- 3. Calculate Metrics as defined in the paper ---\n",
        "print(\"\\n--- Model Performance Evaluation ---\")\n",
        "true_capacity_degradation = target_df_full['charge_capacity'].values[cutoff_index:]\n",
        "\n",
        "# --- CORRECTED LOGIC FOR COMPARISON ---\n",
        "# Determine the number of steps we can actually compare by taking the SHORTER of the two lengths\n",
        "num_comparable_steps = min(len(true_capacity_degradation), len(predicted_capacity))\n",
        "\n",
        "# Slice both arrays to this same, comparable length\n",
        "true_capacity_sliced = true_capacity_degradation[:num_comparable_steps]\n",
        "predicted_capacity_sliced = predicted_capacity[:num_comparable_steps]\n",
        "# --- END OF CORRECTION ---\n",
        "\n",
        "# Capacity Prediction Metrics (using the new sliced arrays)\n",
        "mae = mean_absolute_error(true_capacity_sliced, predicted_capacity_sliced)\n",
        "rmse = np.sqrt(mean_squared_error(true_capacity_sliced, predicted_capacity_sliced))\n",
        "mape = mean_absolute_percentage_error(true_capacity_sliced, predicted_capacity_sliced)\n",
        "print(f\"Capacity MAE: {mae:.4f} Ah\")\n",
        "print(f\"Capacity RMSE: {rmse:.4f} Ah\")\n",
        "print(f\"Capacity MAPE: {mape:.2f}%\")\n",
        "\n",
        "# RUL Prediction Metrics\n",
        "true_eol_indices = np.where(target_df_full['charge_capacity'].values < FAILURE_THRESHOLD)[0]\n",
        "if len(true_eol_indices) > 0:\n",
        "    true_eol_cycle = true_eol_indices[0]\n",
        "    true_rul = true_eol_cycle - cutoff_index\n",
        "\n",
        "    # The predicted RUL is simply the number of steps it took to predict failure\n",
        "    predicted_rul = len(predicted_capacity)\n",
        "\n",
        "    rul_ae = abs(true_rul - predicted_rul) # Absolute Error (AE)\n",
        "    rul_re = (rul_ae / true_rul) * 100 if true_rul > 0 else 0 # Relative Error (RE)\n",
        "\n",
        "    print(f\"\\nPredicted RUL: {predicted_rul} cycles\")\n",
        "    print(f\"True RUL: {true_rul} cycles\")\n",
        "    print(f\"RUL Absolute Error (AE): {rul_ae} cycles\")\n",
        "    print(f\"RUL Relative Error (RE): {rul_re:.2f}%\")\n",
        "else:\n",
        "    print(\"\\nINFO: True capacity never reached failure threshold. Cannot calculate RUL error.\")\n",
        "\n",
        "# --- 4. Visualize the Results ---\n",
        "plt.figure(figsize=(12, 7))\n",
        "plt.plot(target_df_full['cycle'], target_df_full['charge_capacity'], label='True Capacity', color='blue')\n",
        "plt.plot(target_df_full['cycle'][:cutoff_index], target_df_full['charge_capacity'][:cutoff_index], label='Known Early Data (30%)', color='green', linewidth=3)\n",
        "predicted_cycles = np.arange(cutoff_index, cutoff_index + len(predicted_capacity))\n",
        "plt.plot(predicted_cycles, predicted_capacity, label='Predicted Degradation', color='red', linestyle='--')\n",
        "plt.axhline(y=FAILURE_THRESHOLD, color='black', linestyle=':', label=f'Failure Threshold ({FAILURE_THRESHOLD} Ah)')\n",
        "plt.title(f'Future Degradation Prediction for Battery: {target_id}')\n",
        "plt.xlabel('Cycle Number'); plt.ylabel('Capacity (Ah)')\n",
        "plt.legend(); plt.grid(True); plt.show()"
      ]
    },
    {
      "cell_type": "code",
      "execution_count": 208,
      "metadata": {
        "colab": {
          "base_uri": "https://localhost:8080/"
        },
        "id": "wydupYty5hTD",
        "outputId": "5573a88c-9de9-4b4d-ec6e-6076a5942c0f"
      },
      "outputs": [
        {
          "name": "stdout",
          "output_type": "stream",
          "text": [
            "Selecting 6 representative batteries (2 short, 2 medium, 2 long life)...\n",
            "Selected batteries for testing: ['FastCharge_000041_CH10_structure', 'FastCharge_000026_CH5_structure', 'FastCharge_000040_CH32_structure', 'FastCharge_000060_CH29_structure', 'FastCharge_000066_CH26_structure', 'FastCharge_000051_CH15_structure']\n",
            "\n",
            "============================================================\n",
            "Running Test Case 1/6 | Target: FastCharge_000041_CH10_structure\n",
            "============================================================\n",
            "Target Battery: FastCharge_000041_CH10_structure\n",
            "\n",
            "--- Step 1: Calculating Fréchet Distance (Top 6)... ---\n",
            "--- Step 2: Calculating Degradation Rate (Top 4)... ---\n",
            "--- Step 3: Calculating Cycle Ratio (Final 2)... ---\n",
            "Finished FastCharge_000041_CH10_structure in 1.96s. RUL Error: 33 cycles.\n",
            "\n",
            "============================================================\n",
            "Running Test Case 2/6 | Target: FastCharge_000026_CH5_structure\n",
            "============================================================\n",
            "Target Battery: FastCharge_000026_CH5_structure\n",
            "\n",
            "--- Step 1: Calculating Fréchet Distance (Top 6)... ---\n",
            "--- Step 2: Calculating Degradation Rate (Top 4)... ---\n",
            "--- Step 3: Calculating Cycle Ratio (Final 2)... ---\n",
            "Finished FastCharge_000026_CH5_structure in 2.12s. RUL Error: 61 cycles.\n",
            "\n",
            "============================================================\n",
            "Running Test Case 3/6 | Target: FastCharge_000040_CH32_structure\n",
            "============================================================\n",
            "Target Battery: FastCharge_000040_CH32_structure\n",
            "\n",
            "--- Step 1: Calculating Fréchet Distance (Top 6)... ---\n",
            "--- Step 2: Calculating Degradation Rate (Top 4)... ---\n",
            "--- Step 3: Calculating Cycle Ratio (Final 2)... ---\n",
            "Finished FastCharge_000040_CH32_structure in 3.55s. RUL Error: 4 cycles.\n",
            "\n",
            "============================================================\n",
            "Running Test Case 4/6 | Target: FastCharge_000060_CH29_structure\n",
            "============================================================\n",
            "Target Battery: FastCharge_000060_CH29_structure\n",
            "\n",
            "--- Step 1: Calculating Fréchet Distance (Top 6)... ---\n",
            "--- Step 2: Calculating Degradation Rate (Top 4)... ---\n",
            "--- Step 3: Calculating Cycle Ratio (Final 2)... ---\n",
            "Finished FastCharge_000060_CH29_structure in 4.71s. RUL Error: 1 cycles.\n",
            "\n",
            "============================================================\n",
            "Running Test Case 5/6 | Target: FastCharge_000066_CH26_structure\n",
            "============================================================\n",
            "Target Battery: FastCharge_000066_CH26_structure\n",
            "\n",
            "--- Step 1: Calculating Fréchet Distance (Top 6)... ---\n",
            "--- Step 2: Calculating Degradation Rate (Top 4)... ---\n",
            "--- Step 3: Calculating Cycle Ratio (Final 2)... ---\n",
            "Finished FastCharge_000066_CH26_structure in 6.57s. RUL Error: 1402 cycles.\n",
            "\n",
            "============================================================\n",
            "Running Test Case 6/6 | Target: FastCharge_000051_CH15_structure\n",
            "============================================================\n",
            "Target Battery: FastCharge_000051_CH15_structure\n",
            "\n",
            "--- Step 1: Calculating Fréchet Distance (Top 6)... ---\n",
            "--- Step 2: Calculating Degradation Rate (Top 4)... ---\n",
            "--- Step 3: Calculating Cycle Ratio (Final 2)... ---\n",
            "Finished FastCharge_000051_CH15_structure in 8.05s. RUL Error: 1384 cycles.\n",
            "\n",
            "\n",
            "============================================================\n",
            "TEST RESULTS SUMMARY FOR 6 REPRESENTATIVE BATTERIES\n",
            "============================================================\n",
            "                          target_id  true_rul  predicted_rul  rul_error\n",
            "0  FastCharge_000041_CH10_structure        99            132         33\n",
            "1   FastCharge_000026_CH5_structure       146             85         61\n",
            "2  FastCharge_000040_CH32_structure       338            334          4\n",
            "3  FastCharge_000060_CH29_structure       328            327          1\n",
            "4  FastCharge_000066_CH26_structure       598           2000       1402\n",
            "5  FastCharge_000051_CH15_structure       616           2000       1384\n",
            "\n",
            "Average RUL Error across the sample: 480.83 cycles\n"
          ]
        }
      ],
      "source": [
        "import time\n",
        "import pandas as pd\n",
        "import random\n",
        "\n",
        "# 1. Select 6 Representative Batteries ---\n",
        "print(\"Selecting 6 representative batteries (2 short, 2 medium, 2 long life)...\")\n",
        "\n",
        "# Calculate lifespans for all batteries in the filtered dataset\n",
        "cycle_lives = []\n",
        "for battery_id, df in filtered_batteries_df.items():\n",
        "    cycle_lives.append({'id': battery_id, 'life': len(df)})\n",
        "\n",
        "# Sort batteries by lifespan\n",
        "cycle_lives.sort(key=lambda x: x['life'])\n",
        "\n",
        "# Select 2 short, 2 medium, and 2 long-lived batteries\n",
        "short_life_batteries = [b['id'] for b in cycle_lives[:2]]\n",
        "medium_idx = len(cycle_lives) // 2\n",
        "medium_life_batteries = [cycle_lives[medium_idx]['id'], cycle_lives[medium_idx + 1]['id']]\n",
        "long_life_batteries = [b['id'] for b in cycle_lives[-2:]]\n",
        "\n",
        "battery_ids_to_test = short_life_batteries + medium_life_batteries + long_life_batteries\n",
        "\n",
        "print(f\"Selected batteries for testing: {battery_ids_to_test}\")\n",
        "\n",
        "# --- 2. Loop, train, and evaluate for each of the 6 batteries ---\n",
        "all_test_results = []\n",
        "FAILURE_THRESHOLD = 0.88\n",
        "WINDOW_SIZE = 10\n",
        "\n",
        "for i, target_id in enumerate(battery_ids_to_test):\n",
        "    print(f\"\\n{'='*60}\")\n",
        "    print(f\"Running Test Case {i+1}/{len(battery_ids_to_test)} | Target: {target_id}\")\n",
        "    print(f\"{'='*60}\")\n",
        "    start_time = time.time()\n",
        "\n",
        "    try:\n",
        "        # Step A: Select Source Batteries using TSSE\n",
        "        selected_sources = select_source_batteries_tsse(target_id, filtered_batteries_df)\n",
        "        if selected_sources is None:\n",
        "            print(f\"Skipping {target_id} due to insufficient data for TSSE.\")\n",
        "            continue\n",
        "\n",
        "        # Step B: Prepare Data (Scaling and Feature Reconstruction)\n",
        "        source_dfs = [filtered_batteries_df[sid] for sid in selected_sources]\n",
        "        source_capacity_sequence = pd.concat([df['charge_capacity'] for df in source_dfs], ignore_index=True).values.reshape(-1, 1)\n",
        "\n",
        "        scaler = MinMaxScaler(feature_range=(0, 1))\n",
        "        source_capacity_scaled = scaler.fit_transform(source_capacity_sequence)\n",
        "\n",
        "        X_train_source, y_train_source = create_sliding_window_features(source_capacity_scaled.flatten(), WINDOW_SIZE)\n",
        "\n",
        "        target_df_full = filtered_batteries_df[target_id]\n",
        "        target_capacity_full_scaled = scaler.transform(target_df_full[['charge_capacity']].values)\n",
        "        cutoff_index = int(len(target_df_full) * 0.3)\n",
        "        X_finetune_target, y_finetune_target = create_sliding_window_features(target_capacity_full_scaled.flatten()[:cutoff_index], WINDOW_SIZE)\n",
        "\n",
        "        X_train_source_t = torch.from_numpy(X_train_source).float().unsqueeze(-1).to(device)\n",
        "        y_train_source_t = torch.from_numpy(y_train_source).float().unsqueeze(-1).to(device)\n",
        "        X_finetune_target_t = torch.from_numpy(X_finetune_target).float().unsqueeze(-1).to(device)\n",
        "        y_finetune_target_t = torch.from_numpy(y_finetune_target).float().unsqueeze(-1).to(device)\n",
        "\n",
        "        # Step C: Instantiate and Train a NEW Model\n",
        "        set_seed(42) # Reset seed for each run for consistent comparison\n",
        "        model = AttentionLSTM(hidden_size=128).to(device)\n",
        "        loss_function = nn.MSELoss()\n",
        "\n",
        "        # Pre-training\n",
        "        pretrain_optimizer = optim.Adam(model.parameters(), lr=0.001)\n",
        "        model.train()\n",
        "        for epoch in range(200):\n",
        "            outputs = model(X_train_source_t)\n",
        "            loss = loss_function(outputs, y_train_source_t); pretrain_optimizer.zero_grad(); loss.backward(); pretrain_optimizer.step()\n",
        "\n",
        "        # Fine-tuning\n",
        "        for name, param in model.named_parameters():\n",
        "            if \"fc\" not in name: param.requires_grad = False\n",
        "        finetune_optimizer = optim.Adam(filter(lambda p: p.requires_grad, model.parameters()), lr=1e-5)\n",
        "        for epoch in range(40):\n",
        "            outputs = model(X_finetune_target_t)\n",
        "            loss = loss_function(outputs, y_finetune_target_t); finetune_optimizer.zero_grad(); loss.backward(); finetune_optimizer.step()\n",
        "\n",
        "        # Step D: Predict and Evaluate RUL\n",
        "        model.eval()\n",
        "        initial_window_scaled = target_capacity_full_scaled.flatten()[cutoff_index - WINDOW_SIZE : cutoff_index]\n",
        "        predictions_scaled = []\n",
        "        current_window = torch.tensor(initial_window_scaled, dtype=torch.float32).view(1, WINDOW_SIZE, 1).to(device)\n",
        "        failure_threshold_scaled = scaler.transform(np.array([[FAILURE_THRESHOLD]]))[0, 0]\n",
        "\n",
        "        with torch.no_grad():\n",
        "            for _ in range(2000):\n",
        "                prediction = model(current_window)\n",
        "                predicted_value_scaled = prediction.item()\n",
        "                predictions_scaled.append(predicted_value_scaled)\n",
        "                if predicted_value_scaled <= failure_threshold_scaled: break\n",
        "                current_window = torch.roll(current_window, shifts=-1, dims=1)\n",
        "                current_window[0, -1, 0] = predicted_value_scaled\n",
        "\n",
        "        true_eol_cycle = np.where(target_df_full['charge_capacity'].values < FAILURE_THRESHOLD)[0][0]\n",
        "        true_rul = true_eol_cycle - cutoff_index\n",
        "        predicted_rul = len(predictions_scaled)\n",
        "        rul_error = abs(true_rul - predicted_rul)\n",
        "\n",
        "        all_test_results.append({'target_id': target_id, 'true_rul': true_rul, 'predicted_rul': predicted_rul, 'rul_error': rul_error})\n",
        "        end_time = time.time()\n",
        "        print(f\"Finished {target_id} in {end_time - start_time:.2f}s. RUL Error: {rul_error} cycles.\")\n",
        "\n",
        "    except Exception as e:\n",
        "        print(f\"FAILED on {target_id}. Error: {e}\")\n",
        "\n",
        "# --- 3. Display Final Results in a Table ---\n",
        "if all_test_results:\n",
        "    results_df = pd.DataFrame(all_test_results)\n",
        "    print(f\"\\n\\n{'='*60}\")\n",
        "    print(\"TEST RESULTS SUMMARY FOR 6 REPRESENTATIVE BATTERIES\")\n",
        "    print(f\"{'='*60}\")\n",
        "    print(results_df.to_string())\n",
        "\n",
        "    avg_error = results_df['rul_error'].mean()\n",
        "    print(f\"\\nAverage RUL Error across the sample: {avg_error:.2f} cycles\")"
      ]
    },
    {
      "cell_type": "code",
      "execution_count": null,
      "metadata": {
        "colab": {
          "base_uri": "https://localhost:8080/"
        },
        "id": "xp_kIMamATH-",
        "outputId": "a6eeb7c5-1b8e-4d16-daa3-1d087b52f9fd"
      },
      "outputs": [
        {
          "data": {
            "text/plain": [
              "(548, 546)"
            ]
          },
          "execution_count": 196,
          "metadata": {},
          "output_type": "execute_result"
        }
      ],
      "source": [
        "len(filtered_batteries_df[\"FastCharge_000072_CH34_structure\"]),len(filtered_batteries_df[\"FastCharge_000059_CH33_structure\"])"
      ]
    },
    {
      "cell_type": "code",
      "execution_count": null,
      "metadata": {
        "colab": {
          "base_uri": "https://localhost:8080/"
        },
        "id": "2NCjeIPdA6os",
        "outputId": "154f01fb-1650-4398-f032-faf48835cf52"
      },
      "outputs": [
        {
          "data": {
            "text/plain": [
              "1093"
            ]
          },
          "execution_count": 194,
          "metadata": {},
          "output_type": "execute_result"
        }
      ],
      "source": [
        "548 + 545"
      ]
    },
    {
      "cell_type": "code",
      "execution_count": null,
      "metadata": {
        "id": "Vm0KYyFDGEMu"
      },
      "outputs": [],
      "source": []
    }
  ],
  "metadata": {
    "accelerator": "GPU",
    "colab": {
      "gpuType": "T4",
      "provenance": []
    },
    "kernelspec": {
      "display_name": "Python 3",
      "name": "python3"
    },
    "language_info": {
      "name": "python"
    }
  },
  "nbformat": 4,
  "nbformat_minor": 0
}
